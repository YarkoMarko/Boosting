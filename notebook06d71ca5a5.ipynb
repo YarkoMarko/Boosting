{
  "metadata": {
    "kernelspec": {
      "language": "python",
      "display_name": "Python 3",
      "name": "python3"
    },
    "language_info": {
      "name": "python",
      "version": "3.10.13",
      "mimetype": "text/x-python",
      "codemirror_mode": {
        "name": "ipython",
        "version": 3
      },
      "pygments_lexer": "ipython3",
      "nbconvert_exporter": "python",
      "file_extension": ".py"
    },
    "kaggle": {
      "accelerator": "none",
      "dataSources": [
        {
          "sourceId": 2011027,
          "sourceType": "datasetVersion",
          "datasetId": 1202763
        }
      ],
      "dockerImageVersionId": 30673,
      "isInternetEnabled": false,
      "language": "python",
      "sourceType": "notebook",
      "isGpuEnabled": false
    },
    "colab": {
      "name": "notebook06d71ca5a5",
      "provenance": [],
      "include_colab_link": true
    }
  },
  "nbformat_minor": 0,
  "nbformat": 4,
  "cells": [
    {
      "cell_type": "markdown",
      "metadata": {
        "id": "view-in-github",
        "colab_type": "text"
      },
      "source": [
        "<a href=\"https://colab.research.google.com/github/YarkoMarko/Boosting/blob/main/notebook06d71ca5a5.ipynb\" target=\"_parent\"><img src=\"https://colab.research.google.com/assets/colab-badge.svg\" alt=\"Open In Colab\"/></a>"
      ]
    },
    {
      "source": [
        "\n",
        "# IMPORTANT: RUN THIS CELL IN ORDER TO IMPORT YOUR KAGGLE DATA SOURCES\n",
        "# TO THE CORRECT LOCATION (/kaggle/input) IN YOUR NOTEBOOK,\n",
        "# THEN FEEL FREE TO DELETE THIS CELL.\n",
        "# NOTE: THIS NOTEBOOK ENVIRONMENT DIFFERS FROM KAGGLE'S PYTHON\n",
        "# ENVIRONMENT SO THERE MAY BE MISSING LIBRARIES USED BY YOUR\n",
        "# NOTEBOOK.\n",
        "\n",
        "import os\n",
        "import sys\n",
        "from tempfile import NamedTemporaryFile\n",
        "from urllib.request import urlopen\n",
        "from urllib.parse import unquote, urlparse\n",
        "from urllib.error import HTTPError\n",
        "from zipfile import ZipFile\n",
        "import tarfile\n",
        "import shutil\n",
        "\n",
        "CHUNK_SIZE = 40960\n",
        "DATA_SOURCE_MAPPING = 'small-nice-data-dota2:https%3A%2F%2Fstorage.googleapis.com%2Fkaggle-data-sets%2F1202763%2F2011027%2Fbundle%2Farchive.zip%3FX-Goog-Algorithm%3DGOOG4-RSA-SHA256%26X-Goog-Credential%3Dgcp-kaggle-com%2540kaggle-161607.iam.gserviceaccount.com%252F20240325%252Fauto%252Fstorage%252Fgoog4_request%26X-Goog-Date%3D20240325T121921Z%26X-Goog-Expires%3D259200%26X-Goog-SignedHeaders%3Dhost%26X-Goog-Signature%3D2ae0b7ebd71da11e9a73b9e5ac3f589059ae2173000c8d3fd9770d17f06245abebcfae2fd39b9b54c49fb90cb5202cd0ac1c6513d0392db2ac15bdded037be7a84d8f09b37a7bd868941153dbadded91275f71ae67f58351113d0776d479489182dc59e01e121d9c75237dc60ff81ee4a09ef5d7d065d097a161ae98c92fbcef7ea0cd7299cd55d02dcfb17dd3a14fcf979c16e605543de1d4a9c9e75b7970228eee73d45430d570ac67fca9a9e621f72a4815940ecd69e08382857fb917a841f044ca65a899c4e4d2ab42c389cd92171c907611632736b55bae863f89fe81669c99ba98556db23909e7c6f94d2b0c10da81b51c6dcc79d6c0cd5d4ea2d325df'\n",
        "\n",
        "KAGGLE_INPUT_PATH='/kaggle/input'\n",
        "KAGGLE_WORKING_PATH='/kaggle/working'\n",
        "KAGGLE_SYMLINK='kaggle'\n",
        "\n",
        "!umount /kaggle/input/ 2> /dev/null\n",
        "shutil.rmtree('/kaggle/input', ignore_errors=True)\n",
        "os.makedirs(KAGGLE_INPUT_PATH, 0o777, exist_ok=True)\n",
        "os.makedirs(KAGGLE_WORKING_PATH, 0o777, exist_ok=True)\n",
        "\n",
        "try:\n",
        "  os.symlink(KAGGLE_INPUT_PATH, os.path.join(\"..\", 'input'), target_is_directory=True)\n",
        "except FileExistsError:\n",
        "  pass\n",
        "try:\n",
        "  os.symlink(KAGGLE_WORKING_PATH, os.path.join(\"..\", 'working'), target_is_directory=True)\n",
        "except FileExistsError:\n",
        "  pass\n",
        "\n",
        "for data_source_mapping in DATA_SOURCE_MAPPING.split(','):\n",
        "    directory, download_url_encoded = data_source_mapping.split(':')\n",
        "    download_url = unquote(download_url_encoded)\n",
        "    filename = urlparse(download_url).path\n",
        "    destination_path = os.path.join(KAGGLE_INPUT_PATH, directory)\n",
        "    try:\n",
        "        with urlopen(download_url) as fileres, NamedTemporaryFile() as tfile:\n",
        "            total_length = fileres.headers['content-length']\n",
        "            print(f'Downloading {directory}, {total_length} bytes compressed')\n",
        "            dl = 0\n",
        "            data = fileres.read(CHUNK_SIZE)\n",
        "            while len(data) > 0:\n",
        "                dl += len(data)\n",
        "                tfile.write(data)\n",
        "                done = int(50 * dl / int(total_length))\n",
        "                sys.stdout.write(f\"\\r[{'=' * done}{' ' * (50-done)}] {dl} bytes downloaded\")\n",
        "                sys.stdout.flush()\n",
        "                data = fileres.read(CHUNK_SIZE)\n",
        "            if filename.endswith('.zip'):\n",
        "              with ZipFile(tfile) as zfile:\n",
        "                zfile.extractall(destination_path)\n",
        "            else:\n",
        "              with tarfile.open(tfile.name) as tarfile:\n",
        "                tarfile.extractall(destination_path)\n",
        "            print(f'\\nDownloaded and uncompressed: {directory}')\n",
        "    except HTTPError as e:\n",
        "        print(f'Failed to load (likely expired) {download_url} to path {destination_path}')\n",
        "        continue\n",
        "    except OSError as e:\n",
        "        print(f'Failed to load {download_url} to path {destination_path}')\n",
        "        continue\n",
        "\n",
        "print('Data source import complete.')\n"
      ],
      "metadata": {
        "id": "d8j4Yv_njRFf"
      },
      "cell_type": "code",
      "outputs": [],
      "execution_count": null
    },
    {
      "cell_type": "code",
      "source": [
        "# This Python 3 environment comes with many helpful analytics libraries installed\n",
        "# It is defined by the kaggle/python Docker image: https://github.com/kaggle/docker-python\n",
        "# For example, here's several helpful packages to load\n",
        "\n",
        "import numpy as np # linear algebra\n",
        "import pandas as pd # data processing, CSV file I/O (e.g. pd.read_csv)\n",
        "\n",
        "# # Input data files are available in the read-only \"../input/\" directory\n",
        "# # For example, running this (by clicking run or pressing Shift+Enter) will list all files under the input directory\n",
        "\n",
        "# import os\n",
        "# for dirname, _, filenames in os.walk('/kaggle/input'):\n",
        "#     for filename in filenames:\n",
        "#         print(os.path.join(dirname, filename))\n",
        "\n",
        "# # You can write up to 20GB to the current directory (/kaggle/working/) that gets preserved as output when you create a version using \"Save & Run All\"\n",
        "# # You can also write temporary files to /kaggle/temp/, but they won't be saved outside of the current session"
      ],
      "metadata": {
        "_uuid": "8f2839f25d086af736a60e9eeb907d3b93b6e0e5",
        "_cell_guid": "b1076dfc-b9ad-4769-8c92-a6c4dae69d19",
        "execution": {
          "iopub.status.busy": "2024-03-25T12:16:49.872493Z",
          "iopub.execute_input": "2024-03-25T12:16:49.875158Z",
          "iopub.status.idle": "2024-03-25T12:16:49.881714Z",
          "shell.execute_reply.started": "2024-03-25T12:16:49.875118Z",
          "shell.execute_reply": "2024-03-25T12:16:49.880632Z"
        },
        "trusted": true,
        "id": "saunChnUjRFi"
      },
      "execution_count": null,
      "outputs": []
    },
    {
      "cell_type": "code",
      "source": [
        "df = pd.read_csv(\"/kaggle/input/small-nice-data-dota2/small_nice_data.csv\",\n",
        "                 index_col=0)\n",
        "\n",
        "df.head()"
      ],
      "metadata": {
        "execution": {
          "iopub.status.busy": "2024-03-25T12:16:54.175689Z",
          "iopub.execute_input": "2024-03-25T12:16:54.178179Z",
          "iopub.status.idle": "2024-03-25T12:16:56.399901Z",
          "shell.execute_reply.started": "2024-03-25T12:16:54.178136Z",
          "shell.execute_reply": "2024-03-25T12:16:56.399021Z"
        },
        "trusted": true,
        "id": "Oh120eQTjRFj"
      },
      "execution_count": null,
      "outputs": []
    },
    {
      "cell_type": "code",
      "source": [
        "y = df[\"time\"]\n",
        "X = df.drop(columns=[\"time\"])"
      ],
      "metadata": {
        "execution": {
          "iopub.status.busy": "2024-03-25T12:17:06.39783Z",
          "iopub.execute_input": "2024-03-25T12:17:06.400477Z",
          "iopub.status.idle": "2024-03-25T12:17:06.440932Z",
          "shell.execute_reply.started": "2024-03-25T12:17:06.400433Z",
          "shell.execute_reply": "2024-03-25T12:17:06.440013Z"
        },
        "trusted": true,
        "id": "PMc7jvzgjRFj"
      },
      "execution_count": null,
      "outputs": []
    },
    {
      "cell_type": "code",
      "source": [
        "cat_columns = X.select_dtypes(include=\"object\").columns\n",
        "\n",
        "X[cat_columns] = X[cat_columns].astype(\"category\")"
      ],
      "metadata": {
        "execution": {
          "iopub.status.busy": "2024-03-25T12:17:10.121065Z",
          "iopub.execute_input": "2024-03-25T12:17:10.123798Z",
          "iopub.status.idle": "2024-03-25T12:17:10.131568Z",
          "shell.execute_reply.started": "2024-03-25T12:17:10.123749Z",
          "shell.execute_reply": "2024-03-25T12:17:10.130422Z"
        },
        "trusted": true,
        "id": "yBQaf62vjRFj"
      },
      "execution_count": null,
      "outputs": []
    },
    {
      "cell_type": "code",
      "source": [
        "from sklearn.model_selection import train_test_split\n",
        "\n",
        "X_train, X_test, y_train, y_test = train_test_split(X, y, train_size=0.8, random_state=42)"
      ],
      "metadata": {
        "execution": {
          "iopub.status.busy": "2024-03-25T12:17:14.656985Z",
          "iopub.execute_input": "2024-03-25T12:17:14.659838Z",
          "iopub.status.idle": "2024-03-25T12:17:16.657516Z",
          "shell.execute_reply.started": "2024-03-25T12:17:14.659774Z",
          "shell.execute_reply": "2024-03-25T12:17:16.656229Z"
        },
        "trusted": true,
        "id": "ehGL9eH2jRFk"
      },
      "execution_count": null,
      "outputs": []
    },
    {
      "cell_type": "code",
      "source": [
        "from sklearn.pipeline import Pipeline\n",
        "from sklearn.impute import SimpleImputer\n",
        "from sklearn.compose import ColumnTransformer\n",
        "from sklearn.preprocessing import OneHotEncoder\n",
        "\n",
        "num_columns = X.select_dtypes(include=\"number\").columns\n",
        "cat_columns = X.select_dtypes(include=\"category\").columns"
      ],
      "metadata": {
        "execution": {
          "iopub.status.busy": "2024-03-25T12:17:19.215929Z",
          "iopub.execute_input": "2024-03-25T12:17:19.218912Z",
          "iopub.status.idle": "2024-03-25T12:17:19.583022Z",
          "shell.execute_reply.started": "2024-03-25T12:17:19.21886Z",
          "shell.execute_reply": "2024-03-25T12:17:19.582009Z"
        },
        "trusted": true,
        "id": "6B1XHk4BjRFk"
      },
      "execution_count": null,
      "outputs": []
    },
    {
      "cell_type": "code",
      "source": [
        "num_transformer = Pipeline(\n",
        "    steps = [\n",
        "        (\"imputer\", SimpleImputer(strategy=\"median\"))\n",
        "    ]\n",
        ")\n",
        "\n",
        "cat_transformer = Pipeline(\n",
        "    steps=[\n",
        "        (\"imputer\", SimpleImputer(strategy=\"most_frequent\")),\n",
        "    ]\n",
        ")\n",
        "\n",
        "preprocessor = ColumnTransformer(\n",
        "    transformers=[\n",
        "        (\"num\", num_transformer, num_columns),\n",
        "        (\"cat\", cat_transformer, cat_columns)\n",
        "    ]\n",
        ")\n",
        "\n",
        "preprocessor.set_output(transform=\"pandas\")"
      ],
      "metadata": {
        "execution": {
          "iopub.status.busy": "2024-03-25T12:17:24.31107Z",
          "iopub.execute_input": "2024-03-25T12:17:24.313687Z",
          "iopub.status.idle": "2024-03-25T12:17:24.354836Z",
          "shell.execute_reply.started": "2024-03-25T12:17:24.313646Z",
          "shell.execute_reply": "2024-03-25T12:17:24.354024Z"
        },
        "trusted": true,
        "id": "czDls5xcjRFk"
      },
      "execution_count": null,
      "outputs": []
    },
    {
      "cell_type": "code",
      "source": [
        "X_train = preprocessor.fit_transform(X_train)\n",
        "X_test = preprocessor.transform(X_test)"
      ],
      "metadata": {
        "execution": {
          "iopub.status.busy": "2024-03-25T12:17:27.948817Z",
          "iopub.execute_input": "2024-03-25T12:17:27.951464Z",
          "iopub.status.idle": "2024-03-25T12:17:32.648104Z",
          "shell.execute_reply.started": "2024-03-25T12:17:27.95142Z",
          "shell.execute_reply": "2024-03-25T12:17:32.646855Z"
        },
        "trusted": true,
        "id": "Xrrd8qRujRFl"
      },
      "execution_count": null,
      "outputs": []
    },
    {
      "cell_type": "code",
      "source": [
        "import lightgbm as lgb"
      ],
      "metadata": {
        "execution": {
          "iopub.status.busy": "2024-03-25T12:17:42.620039Z",
          "iopub.execute_input": "2024-03-25T12:17:42.62268Z",
          "iopub.status.idle": "2024-03-25T12:17:44.639857Z",
          "shell.execute_reply.started": "2024-03-25T12:17:42.622637Z",
          "shell.execute_reply": "2024-03-25T12:17:44.638628Z"
        },
        "trusted": true,
        "id": "HonWwAmzjRFl"
      },
      "execution_count": null,
      "outputs": []
    },
    {
      "cell_type": "code",
      "source": [
        "model = lgb.LGBMRegressor(objective='mse')"
      ],
      "metadata": {
        "execution": {
          "iopub.status.busy": "2024-03-25T12:17:47.360139Z",
          "iopub.execute_input": "2024-03-25T12:17:47.362832Z",
          "iopub.status.idle": "2024-03-25T12:17:47.36876Z",
          "shell.execute_reply.started": "2024-03-25T12:17:47.362788Z",
          "shell.execute_reply": "2024-03-25T12:17:47.367832Z"
        },
        "trusted": true,
        "id": "vXEuadffjRFl"
      },
      "execution_count": null,
      "outputs": []
    },
    {
      "cell_type": "code",
      "source": [
        "model.fit(X_train, y_train,\n",
        "         eval_set=[(X_test, y_test), (X_train, y_train)],\n",
        "         eval_names = [\"test\", \"train\"],\n",
        "         eval_metric = \"mse\")"
      ],
      "metadata": {
        "execution": {
          "iopub.status.busy": "2024-03-25T12:17:50.740682Z",
          "iopub.execute_input": "2024-03-25T12:17:50.743158Z",
          "iopub.status.idle": "2024-03-25T12:18:03.275075Z",
          "shell.execute_reply.started": "2024-03-25T12:17:50.743116Z",
          "shell.execute_reply": "2024-03-25T12:18:03.274068Z"
        },
        "trusted": true,
        "id": "-eomtUJ4jRFl"
      },
      "execution_count": null,
      "outputs": []
    },
    {
      "cell_type": "code",
      "source": [
        "from sklearn import metrics\n",
        "\n",
        "y_pred = model.predict(X_test)\n",
        "\n",
        "def get_metrics(y_true, y_pred, name=\"model\"):\n",
        "  df_ = pd.DataFrame()\n",
        "\n",
        "  df_.loc[\"MAE\", name] = metrics.mean_absolute_error(y_true, y_pred)\n",
        "  df_.loc[\"RMSE\", name] = metrics.mean_squared_error(y_true, y_pred) ** 0.5\n",
        "  df_.loc[\"R2\", name] = metrics.r2_score(y_true, y_pred)\n",
        "\n",
        "  return df_.round(2)"
      ],
      "metadata": {
        "execution": {
          "iopub.status.busy": "2024-03-25T12:18:06.385548Z",
          "iopub.execute_input": "2024-03-25T12:18:06.388173Z",
          "iopub.status.idle": "2024-03-25T12:18:06.65446Z",
          "shell.execute_reply.started": "2024-03-25T12:18:06.388128Z",
          "shell.execute_reply": "2024-03-25T12:18:06.653446Z"
        },
        "trusted": true,
        "id": "0kkr2mVWjRFl"
      },
      "execution_count": null,
      "outputs": []
    },
    {
      "cell_type": "code",
      "source": [
        "all_metrics = pd.DataFrame()"
      ],
      "metadata": {
        "execution": {
          "iopub.status.busy": "2024-03-25T12:18:31.204283Z",
          "iopub.execute_input": "2024-03-25T12:18:31.206913Z",
          "iopub.status.idle": "2024-03-25T12:18:31.217043Z",
          "shell.execute_reply.started": "2024-03-25T12:18:31.206868Z",
          "shell.execute_reply": "2024-03-25T12:18:31.215568Z"
        },
        "trusted": true,
        "id": "6KcpP5UbjRFm"
      },
      "execution_count": null,
      "outputs": []
    },
    {
      "cell_type": "code",
      "source": [
        "all_metrics[\"train\"] = get_metrics(y_train, model.predict(X_train))\n",
        "all_metrics[\"test\"] = get_metrics(y_test, y_pred)"
      ],
      "metadata": {
        "execution": {
          "iopub.status.busy": "2024-03-25T12:18:34.254406Z",
          "iopub.execute_input": "2024-03-25T12:18:34.255199Z",
          "iopub.status.idle": "2024-03-25T12:18:35.362481Z",
          "shell.execute_reply.started": "2024-03-25T12:18:34.255163Z",
          "shell.execute_reply": "2024-03-25T12:18:35.361525Z"
        },
        "trusted": true,
        "id": "hbggOuvejRFm"
      },
      "execution_count": null,
      "outputs": []
    },
    {
      "cell_type": "code",
      "source": [
        "all_metrics"
      ],
      "metadata": {
        "execution": {
          "iopub.status.busy": "2024-03-25T12:18:37.726599Z",
          "iopub.execute_input": "2024-03-25T12:18:37.729118Z",
          "iopub.status.idle": "2024-03-25T12:18:37.744605Z",
          "shell.execute_reply.started": "2024-03-25T12:18:37.729075Z",
          "shell.execute_reply": "2024-03-25T12:18:37.742889Z"
        },
        "trusted": true,
        "id": "hzRp_tNcjRFm"
      },
      "execution_count": null,
      "outputs": []
    },
    {
      "cell_type": "code",
      "source": [
        "lgb.plot_metric(model,\n",
        "               metric=\"l2\")"
      ],
      "metadata": {
        "execution": {
          "iopub.status.busy": "2024-03-25T12:18:41.012474Z",
          "iopub.execute_input": "2024-03-25T12:18:41.015239Z",
          "iopub.status.idle": "2024-03-25T12:18:41.374426Z",
          "shell.execute_reply.started": "2024-03-25T12:18:41.015191Z",
          "shell.execute_reply": "2024-03-25T12:18:41.373564Z"
        },
        "trusted": true,
        "id": "O0KwO0VfjRFm"
      },
      "execution_count": null,
      "outputs": []
    },
    {
      "cell_type": "code",
      "source": [
        "model = Pipeline(\n",
        "    steps=[\n",
        "        (\"prop\", preprocessor),\n",
        "        (\"model\", model)\n",
        "    ]\n",
        ")"
      ],
      "metadata": {
        "execution": {
          "iopub.status.busy": "2024-03-25T12:18:44.501324Z",
          "iopub.execute_input": "2024-03-25T12:18:44.504021Z",
          "iopub.status.idle": "2024-03-25T12:18:44.510482Z",
          "shell.execute_reply.started": "2024-03-25T12:18:44.503972Z",
          "shell.execute_reply": "2024-03-25T12:18:44.509455Z"
        },
        "trusted": true,
        "id": "rG3GmsmyjRFm"
      },
      "execution_count": null,
      "outputs": []
    },
    {
      "cell_type": "code",
      "source": [
        "import joblib"
      ],
      "metadata": {
        "execution": {
          "iopub.status.busy": "2024-03-25T12:18:47.988615Z",
          "iopub.execute_input": "2024-03-25T12:18:47.992133Z",
          "iopub.status.idle": "2024-03-25T12:18:47.998419Z",
          "shell.execute_reply.started": "2024-03-25T12:18:47.992076Z",
          "shell.execute_reply": "2024-03-25T12:18:47.996995Z"
        },
        "trusted": true,
        "id": "kCYza90mjRFm"
      },
      "execution_count": null,
      "outputs": []
    },
    {
      "cell_type": "code",
      "source": [
        "joblib.dump(model, \"model_lgb.pkl\")"
      ],
      "metadata": {
        "execution": {
          "iopub.status.busy": "2024-03-25T12:18:51.383798Z",
          "iopub.execute_input": "2024-03-25T12:18:51.384209Z",
          "iopub.status.idle": "2024-03-25T12:18:51.41761Z",
          "shell.execute_reply.started": "2024-03-25T12:18:51.384175Z",
          "shell.execute_reply": "2024-03-25T12:18:51.416254Z"
        },
        "trusted": true,
        "id": "Qpq_t67OjRFm"
      },
      "execution_count": null,
      "outputs": []
    }
  ]
}